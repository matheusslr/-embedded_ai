{
  "nbformat": 4,
  "nbformat_minor": 0,
  "metadata": {
    "colab": {
      "provenance": [],
      "collapsed_sections": []
    },
    "kernelspec": {
      "name": "python3",
      "display_name": "Python 3"
    },
    "language_info": {
      "name": "python"
    }
  },
  "cells": [
    {
      "cell_type": "code",
      "execution_count": null,
      "metadata": {
        "id": "RgXC2Tq4KyyE"
      },
      "outputs": [],
      "source": [
        "!pip install wandb -qU"
      ]
    },
    {
      "cell_type": "code",
      "source": [
        "import wandb\n",
        "wandb.login()"
      ],
      "metadata": {
        "id": "JrcMCzJfK6UI"
      },
      "execution_count": null,
      "outputs": []
    },
    {
      "cell_type": "code",
      "source": [
        "# import the necessary packages\n",
        "from imutils import paths\n",
        "import logging\n",
        "import os\n",
        "import cv2\n",
        "import numpy as np\n",
        "import joblib\n",
        "from sklearn.preprocessing import LabelEncoder\n",
        "from sklearn.neighbors import KNeighborsClassifier\n",
        "from sklearn.neural_network import MLPClassifier\n",
        "\n",
        "\n",
        "from sklearn.metrics import classification_report\n",
        "from sklearn.metrics import fbeta_score, precision_score, recall_score, accuracy_score\n",
        "from sklearn.metrics import confusion_matrix\n",
        "from sklearn.metrics import ConfusionMatrixDisplay\n",
        "import matplotlib.pyplot as plt\n",
        "import re"
      ],
      "metadata": {
        "id": "jyJryPY_QcYK"
      },
      "execution_count": null,
      "outputs": []
    },
    {
      "cell_type": "code",
      "source": [
        "logger = logging.getLogger()\n",
        "logger.setLevel(logging.INFO)\n",
        "c_handler = logging.StreamHandler()\n",
        "c_format = logging.Formatter(fmt=\"%(asctime)s %(message)s\",datefmt='%d-%m-%Y %H:%M:%S')\n",
        "c_handler.setFormatter(c_format)\n",
        "logger.handlers[0] = c_handler"
      ],
      "metadata": {
        "id": "LMWAIzJyQaEj"
      },
      "execution_count": null,
      "outputs": []
    },
    {
      "cell_type": "code",
      "source": [
        "sweep_config = {\n",
        "    'method': 'random'\n",
        "    }\n",
        "\n",
        "metric ={\n",
        "      'name': 'val_accuracy',\n",
        "      'goal': 'maximize'   \n",
        "    }\n",
        "\n",
        "sweep_config['metric'] = metric\n",
        "\n",
        "parameters_dict = {\n",
        "    'activation':\n",
        "    {\n",
        "        'values' : ['relu']   \n",
        "    },\n",
        "    'camadas':\n",
        "    {\n",
        "        'values':[1,2,3]\n",
        "    },\n",
        "    'fc_layer_size': {\n",
        "         'distribution': 'q_log_uniform_values',\n",
        "          'q': 8,\n",
        "          'min':10,\n",
        "          'max':400,\n",
        "        },\n",
        "\n",
        "    }\n",
        "\n",
        "sweep_config['parameters'] = parameters_dict\n",
        "\n",
        "\n",
        "\n",
        "parameters_dict.update({\n",
        "    'learning_rate': {\n",
        "        'values':['constant','adaptive']\n",
        "      },\n",
        "      'learning_rate_init': {\n",
        "        'distribution': 'uniform',\n",
        "        'min': 0,\n",
        "        'max': 0.1\n",
        "      },\n",
        " \n",
        "    })"
      ],
      "metadata": {
        "id": "xP7zoC0vLDZ-"
      },
      "execution_count": null,
      "outputs": []
    },
    {
      "cell_type": "code",
      "source": [
        "sweep_id = wandb.sweep(sweep_config, project='classifier_mlp')"
      ],
      "metadata": {
        "id": "slhA8muoNmXO"
      },
      "execution_count": null,
      "outputs": []
    },
    {
      "cell_type": "code",
      "source": [
        "args = {\n",
        "  \"project_name\": \"classifier_mlp\",\n",
        "  \"train_feature_artifact\": \"train_x:latest\",\n",
        "  \"train_target_artifact\": \"train_y:latest\",\n",
        "  \"jobs\": -1,\n",
        "  \"encoder\": \"target_encoder\",\n",
        "  \"inference_model\": \"model\"\n",
        "}"
      ],
      "metadata": {
        "id": "t4EI4AazQUmu"
      },
      "execution_count": null,
      "outputs": []
    },
    {
      "cell_type": "code",
      "source": [
        "qtd =1"
      ],
      "metadata": {
        "id": "IB4TAC9mVXFU"
      },
      "execution_count": null,
      "outputs": []
    },
    {
      "cell_type": "code",
      "source": [
        "def train(config=None):\n",
        "  global qtd\n",
        "    \n",
        "  with wandb.init(entity=\"igordias\",project=args[\"project_name\"], job_type=\"Train\") as run:\n",
        "\n",
        "    wandb.run.name = 'treino' + str(qtd)\n",
        "    qtd+=1\n",
        "    config = wandb.config\n",
        "\n",
        "    logger.info(\"Downloading the training data\")\n",
        "    train_x_artifact = run.use_artifact(args[\"train_feature_artifact\"])\n",
        "    train_x_path = train_x_artifact.file()\n",
        "    train_y_artifact = run.use_artifact(args[\"train_target_artifact\"])\n",
        "    train_y_path = train_y_artifact.file()\n",
        "\n",
        "    # unpacking the artifacts\n",
        "    train_x = joblib.load(train_x_path)\n",
        "    train_y = joblib.load(train_y_path)\n",
        "    le = LabelEncoder()\n",
        "    train_y = le.fit_transform(train_y)\n",
        "\n",
        "    # train a MLP classifier on the raw pixel intensities\n",
        "    logger.info(\"[INFO] training MLP classifier...\")\n",
        "    model=\"\"\n",
        "    if(config.camadas==1):\n",
        "      model = MLPClassifier(hidden_layer_sizes=config.fc_layer_size,learning_rate=config.learning_rate,max_iter=1000,learning_rate_init=config.learning_rate_init)\n",
        "    elif(config.camadas==2):\n",
        "      model = MLPClassifier(hidden_layer_sizes=(config.fc_layer_size,config.fc_layer_size),learning_rate=config.learning_rate,max_iter=1000,learning_rate_init=config.learning_rate_init)\n",
        "    else:\n",
        "      model = MLPClassifier(hidden_layer_sizes=(config.fc_layer_size,config.fc_layer_size,config.fc_layer_size),learning_rate=config.learning_rate,max_iter=1000,learning_rate_init=config.learning_rate_init)\n",
        "\n",
        "    model.fit(train_x, train_y)\n",
        "\n",
        "    test_x_artifact = run.use_artifact(\"test_x:latest\")\n",
        "    test_x_path = test_x_artifact.file()\n",
        "    test_y_artifact = run.use_artifact(\"test_y:latest\")\n",
        "    test_y_path = test_y_artifact.file()\n",
        "\n",
        "    # unpacking the artifacts\n",
        "    test_x = joblib.load(test_x_path)\n",
        "    test_y = joblib.load(test_y_path)\n",
        "\n",
        "\n",
        "    test_y = le.fit_transform(test_y)\n",
        "\n",
        "    logger.info(\"[INFO] evaluating MLP classifier...\")\n",
        "    predict = model.predict(test_x)\n",
        "    score = model.score(test_x,test_y)\n",
        "    \n",
        "    logger.info(\"Test Evaluation metrics\")\n",
        "\n",
        "    fbeta = fbeta_score(test_y, predict, beta=1, zero_division=1,average='weighted')\n",
        "    precision = precision_score(test_y, predict, zero_division=1,average='weighted')\n",
        "    recall = recall_score(test_y, predict, zero_division=1,average='weighted')\n",
        "    acc = accuracy_score(test_y, predict)\n",
        "\n",
        "    logger.info(\"Test Accuracy: {}\".format(acc))\n",
        "    logger.info(\"Test Precision: {}\".format(precision))\n",
        "    logger.info(\"Test Recall: {}\".format(recall))\n",
        "    logger.info(\"Test F1: {}\".format(fbeta))\n",
        "\n",
        "    wandb.log({\"val_accuracy\":acc,\"Precision\":precision,\"score\": score,'loss':model.best_loss_})    \n",
        "\n",
        "    logger.info(classification_report(test_y, predict,target_names=le.classes_))\n"
      ],
      "metadata": {
        "id": "Vfi22httPk-p"
      },
      "execution_count": null,
      "outputs": []
    },
    {
      "cell_type": "code",
      "source": [
        "wandb.agent(sweep_id, train, count=300)"
      ],
      "metadata": {
        "id": "B925Bgo3RWu9"
      },
      "execution_count": null,
      "outputs": []
    }
  ]
}